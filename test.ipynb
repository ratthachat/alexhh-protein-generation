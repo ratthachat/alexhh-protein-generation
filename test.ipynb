{
 "cells": [
  {
   "cell_type": "code",
   "execution_count": 1,
   "metadata": {},
   "outputs": [
    {
     "name": "stderr",
     "output_type": "stream",
     "text": [
      "2022-05-18 03:51:08.486731: W tensorflow/stream_executor/platform/default/dso_loader.cc:64] Could not load dynamic library 'libcudart.so.11.0'; dlerror: libcudart.so.11.0: cannot open shared object file: No such file or directory\n",
      "2022-05-18 03:51:08.486773: I tensorflow/stream_executor/cuda/cudart_stub.cc:29] Ignore above cudart dlerror if you do not have a GPU set up on your machine.\n"
     ]
    }
   ],
   "source": [
    "from models.vaes import MSAVAE\n",
    "from utils.io import load_gzdata\n",
    "from utils.data_loaders import one_hot_generator\n",
    "\n",
    "import numpy as np\n",
    "import pandas as pd"
   ]
  },
  {
   "cell_type": "code",
   "execution_count": 2,
   "metadata": {},
   "outputs": [],
   "source": [
    "a, raw_seqs = load_gzdata('data/training_data/ll_train.fa.gz', one_hot=False)\n",
    "b, msa_seqs = load_gzdata('data/training_data/luxafilt_llmsa_train.fa.gz', one_hot=False)"
   ]
  },
  {
   "cell_type": "code",
   "execution_count": 3,
   "metadata": {},
   "outputs": [
    {
     "name": "stdout",
     "output_type": "stream",
     "text": [
      "['MAELKLGYKASAEQFAPRELVELAVAAEAHGMDSATVSDHFQPWRHEGGHAPFSLAWMTAVGERTTRITLGTSVLTPTFRYNPAVVAQAFATMACLYPGRIFLGVGTGEALNEIATGYQGEWPEFKERFARLRESVRLMRELWRGDRVDFDGEYYRLKGASIYDVPDGGVPIYIAAGGPAVAKYAGRAGDGFICTSGKGEELYKDKLIPAVKEGAAINDRNVDDIDKMIEIKISYDPDPELALENTRFWAPLSLTAEQKHSIDDPIEMEKAADALPIEQVAKRWIVASDPDEAVAKVKDYVDWGLNHLVFHAPGHDQRRFLELFEKDLAPRLRRLG', 'MAELKLGYKASAEQFAPRELVELAVLAESAGMDSATVSDHFQPWRHEGGHAPFSLAWMTAVGERTKNLVLGTSVLTPTFRYNPAVIAQAFATMGCLYPGRIFLGVGTGEALNEIATGYAGEWPEFKERFARLRESVRLMRELWLGDRVDFDGEYYRTKGASIYDVPEGGIPVYIAAGGPVVAKYAGRAGDGFICTSGKGEELYAEKLIPAVKEGAAAADRDADAIDRMIEIKISYDTDPELALENTRFWAPLSLTAEQKHSIDDPIEMEKAADALPIEQVAKRWIVASDPDEAVEKVGQYVKWGLNHLVFHAPGHDQRRFLELFKRDLEPRLRKLA', 'MSLNMFWFLPTHGDGHYLGTEEGSRPVDHGYLQQIAQAADRLGYTGVLIPTGRSCEDAWLVAASMIPVTQRLKFLVALRPSVTSPTVAARQAATLDRLSNGRALFNLVTGSDPQELAGDGVFLDHSERYEASAEFTQVWRRLLLGETVDFNGKHIHVRGAKLLFPPIQQPYPPLYFGGSSDVAQELAAEQVDLYLTWGEPPELVKEKIEHVRAKAAAHGRKIRFGVRLHVIVRETNDEAWQAAERLISRLDDETIAKAQAAFARTDSVGQQRMAALHNGKRDNLEISPNLWAGVGLVRGGAGTALVGDGPTVAARINEYAALGIDSFVLSGYPHLEEAYRVGELLFPHLDVAIPEIPQPQPLNPQGEAVANDFIPRNVAQS', 'MGGLRFGFVDALVHSRLPPTLPARSSMAAATVMGADSYWVGDHLNALVPRSIATSEYLGIAAKFVPKIDANYEPWTMLGNLAFGLPSRLRLGVCVTDAGRRNPAVTAQAAATLHLLTRGRAILGIGVGEREGNEPYGVEWTKPVARFEEALATIRALWNSNGELISRESPYFPLHNALFDLPPYRGKWPEIWVAAHGPRMLRATGRYADAWIPIVVVRPSDYSRALEAVRSAASDAGRDPMSITPAAVRGIITGRNRDDVEEALESVVVKMTALGVPGEAWARHGVEHPMGADFSGVQDIIPQTMDKQTVLSYAAKVPAALMKEVVFSGTPDEVIDQVAEWRDHGLRYVVLINGSLVNPSLRKTVTAVLPHAKVLRGLKKL', 'MHVFWFIPTHGDSRYLGTSEGARAVHYDYLRQVATAADTLGYEGVLIPTGRSCEDPWVVASALAPVTRRLKFLVAVRPGLHQPALAARMAATFDRLSGGRLLINLVTGGDRTELEGDGVFLDHAQRYAQSEEFIRIWREILSRSHEGGTFDYEGEHLSVKGAKLLYPPVQKPYPPVYFGGSSEAAHDLAAEQVDTYLTWGEPPAAVAQKVADVRARAAQRGRTVRFGIRLHVIVRETDAAAWAAAEELISRVQDETVAQAQAVFSRMDSEGQRRMAALHAGGTRRSRADLEISPNLWAGVGLVRGGAGTALVGDPQTVAARMQEYADLGIDTFVLSGYPHLEEAYRFAELVFPLLPAEVRERIGGGRAAGPLTGPFGEIVGNQYVPRAAQS']\n",
      "355.07406669444094 51.827504712639275 500 250\n"
     ]
    }
   ],
   "source": [
    "len(raw_seqs), len(msa_seqs)\n",
    "print(raw_seqs[:5])\n",
    "lraw = np.array([len(s) for s in raw_seqs])\n",
    "print(lraw.mean(), lraw.std(), lraw.max(), lraw.min())"
   ]
  },
  {
   "cell_type": "code",
   "execution_count": 4,
   "metadata": {},
   "outputs": [
    {
     "name": "stdout",
     "output_type": "stream",
     "text": [
      "LKLGYKA-SA------PRE----LVELAVAAEAHGMDSATVSDHFQPW----PFSLAWMTAVG-E-TRITLGTSVL--T--NPAVVAQAFATMACLY-GR-FLGVGTGAL--E-----GEWK-RFARLRESVRLMRELWR-----FDGE-YRLK-A-IYDVP-G-G-VPIYIAGG-P-VAK-AGRAGDGIT-S-G-K--LY-KLI-AVKEGA----RN-----M-----IKIYD-DPEALTRF---------APL--TAE--------------MEK--------D------AL-------P-IEQVA-KVK-------LNH-V--HAP-----------R-FEKDLAPRLRRLG-----\n",
      "LKLGYKA-SA------PRE----LVELAVLAESAGMDSATVSDHFQPW----PFSLAWMTAVG-E-KNLVLGTSVL--T--NPAVIAQAFATMGCLY-GR-FLGVGTGAL--E-----GEWK-RFARLRESVRLMRELWL-----FDGE-YRTK-A-IYDVP-G-G-IPVYIAGG-P-VAK-AGRAGDGIT-S-G-K--LY-ALI-AVKEGA----RD-----M-----IKIYD-DPEALTRF---------APL--TAE--------------MEK--------D------AL-------P-IEQVA-KVG-------LNH-V--HAP-----------R-FKRDLEPRLRKLA-----\n",
      "RRIGYHA-SH------PEE----LLRLVQRAEAAGFDAVLSSDHLAPW----GHAWSWLGAAL-A-TTLPFGVV-T--G--HPVVTAQAVATLSRMF-GR-WAAYGSGAL--E-----DAWE-RRQRLRSSVQIIRALLA-----ADE--VRVH-A-IWSRP-Q-P-PPVIAAVS-E-TAA-AAGWAEGIV-G-S----QT-AVL-AYRGRG-----------M-----IHVLA-TDDALAQE-QWR-----ATV-------------------FDA---------------DP-------R-PEAMR-RIA-------FDQ-H-HHVG-----------P-APE-LLGALRERLHAAAA\n",
      "360.0 0.0 360 360\n"
     ]
    }
   ],
   "source": [
    "print(msa_seqs[0])\n",
    "print(msa_seqs[1])\n",
    "print(msa_seqs[-1])\n",
    "lmsa = np.array([len(s) for s in msa_seqs])\n",
    "print(lmsa.mean(), lmsa.std(), lmsa.max(), lmsa.min())"
   ]
  },
  {
   "cell_type": "code",
   "execution_count": 8,
   "metadata": {},
   "outputs": [
    {
     "name": "stdout",
     "output_type": "stream",
     "text": [
      "(32, 360, 21) (32, 360, 21)\n",
      "[1. 0. 0. 0. 0. 0. 0. 0. 0. 0. 0. 0. 0. 0. 0. 0. 0. 0. 0. 0. 0.] [1. 0. 0. 0. 0. 0. 0. 0. 0. 0. 0. 0. 0. 0. 0. 0. 0. 0. 0. 0. 0.]\n"
     ]
    }
   ],
   "source": [
    "train_gen = one_hot_generator(msa_seqs, padding=None)\n",
    "for (x,y) in train_gen:\n",
    "    print(x.shape, y.shape)\n",
    "    print(x[0, 0,:], y[0, 0,:])\n",
    "    break"
   ]
  },
  {
   "cell_type": "code",
   "execution_count": 9,
   "metadata": {},
   "outputs": [
    {
     "name": "stderr",
     "output_type": "stream",
     "text": [
      "2022-05-18 03:53:35.663712: W tensorflow/stream_executor/platform/default/dso_loader.cc:64] Could not load dynamic library 'libcuda.so.1'; dlerror: libcuda.so.1: cannot open shared object file: No such file or directory\n",
      "2022-05-18 03:53:35.663774: W tensorflow/stream_executor/cuda/cuda_driver.cc:269] failed call to cuInit: UNKNOWN ERROR (303)\n",
      "2022-05-18 03:53:35.663805: I tensorflow/stream_executor/cuda/cuda_diagnostics.cc:156] kernel driver does not appear to be running on this host (codespaces-3a659a): /proc/driver/nvidia/version does not exist\n",
      "2022-05-18 03:53:35.664738: I tensorflow/core/platform/cpu_feature_guard.cc:151] This TensorFlow binary is optimized with oneAPI Deep Neural Network Library (oneDNN) to use the following CPU instructions in performance-critical operations:  AVX2 AVX512F FMA\n",
      "To enable them in other operations, rebuild TensorFlow with the appropriate compiler flags.\n"
     ]
    },
    {
     "name": "stdout",
     "output_type": "stream",
     "text": [
      "Learning rate  0.001\n",
      "Protein VAE initialized !\n",
      "Model: \"model_3\"\n",
      "__________________________________________________________________________________________________\n",
      " Layer (type)                   Output Shape         Param #     Connected to                     \n",
      "==================================================================================================\n",
      " input_1 (InputLayer)           [(None, 360, 21)]    0           []                               \n",
      "                                                                                                  \n",
      " model (Functional)             [(None, 10),         2006548     ['input_1[0][0]']                \n",
      "                                 (None, 10)]                                                      \n",
      "                                                                                                  \n",
      " lambda (Lambda)                (None, 10)           0           ['model[0][0]',                  \n",
      "                                                                  'model[0][1]']                  \n",
      "                                                                                                  \n",
      " model_1 (Functional)           (None, 360, 21)      2011528     ['lambda[0][0]']                 \n",
      "                                                                                                  \n",
      "==================================================================================================\n",
      "Total params: 4,018,076\n",
      "Trainable params: 4,018,076\n",
      "Non-trainable params: 0\n",
      "__________________________________________________________________________________________________\n"
     ]
    }
   ],
   "source": [
    "model = MSAVAE(n_conditions=0)\n",
    "model.VAE.summary()"
   ]
  },
  {
   "cell_type": "code",
   "execution_count": 11,
   "metadata": {},
   "outputs": [
    {
     "ename": "TypeError",
     "evalue": "in user code:\n\n    File \"/opt/python/3.10.4/lib/python3.10/site-packages/keras/engine/training.py\", line 1021, in train_function  *\n        return step_function(self, iterator)\n    File \"/opt/python/3.10.4/lib/python3.10/site-packages/keras/engine/training.py\", line 1010, in step_function  **\n        outputs = model.distribute_strategy.run(run_step, args=(data,))\n    File \"/opt/python/3.10.4/lib/python3.10/site-packages/keras/engine/training.py\", line 1000, in run_step  **\n        outputs = model.train_step(data)\n    File \"/opt/python/3.10.4/lib/python3.10/site-packages/keras/engine/training.py\", line 860, in train_step\n        loss = self.compute_loss(x, y, y_pred, sample_weight)\n    File \"/opt/python/3.10.4/lib/python3.10/site-packages/keras/engine/training.py\", line 918, in compute_loss\n        return self.compiled_loss(\n    File \"/opt/python/3.10.4/lib/python3.10/site-packages/keras/engine/compile_utils.py\", line 239, in __call__\n        self._loss_metric.update_state(\n    File \"/opt/python/3.10.4/lib/python3.10/site-packages/keras/utils/metrics_utils.py\", line 70, in decorated\n        update_op = update_state_fn(*args, **kwargs)\n    File \"/opt/python/3.10.4/lib/python3.10/site-packages/keras/metrics.py\", line 178, in update_state_fn\n        return ag_update_state(*args, **kwargs)\n    File \"/opt/python/3.10.4/lib/python3.10/site-packages/keras/metrics.py\", line 455, in update_state  **\n        sample_weight = tf.__internal__.ops.broadcast_weights(\n    File \"/opt/python/3.10.4/lib/python3.10/site-packages/keras/engine/keras_tensor.py\", line 254, in __array__\n        raise TypeError(\n\n    TypeError: You are passing KerasTensor(type_spec=TensorSpec(shape=(), dtype=tf.float32, name=None), name='Placeholder:0', description=\"created by layer 'tf.cast_4'\"), an intermediate Keras symbolic input/output, to a TF API that does not allow registering custom dispatchers, such as `tf.cond`, `tf.function`, gradient tapes, or `tf.map_fn`. Keras Functional model construction only supports TF API calls that *do* support dispatching, such as `tf.math.add` or `tf.reshape`. Other APIs cannot be called directly on symbolic Kerasinputs/outputs. You can work around this limitation by putting the operation in a custom Keras layer `call` and calling that layer on this symbolic input/output.\n",
     "output_type": "error",
     "traceback": [
      "\u001b[0;31m---------------------------------------------------------------------------\u001b[0m",
      "\u001b[0;31mTypeError\u001b[0m                                 Traceback (most recent call last)",
      "\u001b[1;32m/workspaces/alexhh-protein-generation/test.ipynb Cell 7'\u001b[0m in \u001b[0;36m<cell line: 1>\u001b[0;34m()\u001b[0m\n\u001b[0;32m----> <a href='vscode-notebook-cell://codespaces%2Bratthachat-alexhh-protein-generation-44p66j64fj5r9/workspaces/alexhh-protein-generation/test.ipynb#ch0000006vscode-remote?line=0'>1</a>\u001b[0m model\u001b[39m.\u001b[39;49mVAE\u001b[39m.\u001b[39;49mfit(x,y)\n",
      "File \u001b[0;32m/opt/python/3.10.4/lib/python3.10/site-packages/keras/utils/traceback_utils.py:67\u001b[0m, in \u001b[0;36mfilter_traceback.<locals>.error_handler\u001b[0;34m(*args, **kwargs)\u001b[0m\n\u001b[1;32m     <a href='file:///opt/python/3.10.4/lib/python3.10/site-packages/keras/utils/traceback_utils.py?line=64'>65</a>\u001b[0m \u001b[39mexcept\u001b[39;00m \u001b[39mException\u001b[39;00m \u001b[39mas\u001b[39;00m e:  \u001b[39m# pylint: disable=broad-except\u001b[39;00m\n\u001b[1;32m     <a href='file:///opt/python/3.10.4/lib/python3.10/site-packages/keras/utils/traceback_utils.py?line=65'>66</a>\u001b[0m   filtered_tb \u001b[39m=\u001b[39m _process_traceback_frames(e\u001b[39m.\u001b[39m__traceback__)\n\u001b[0;32m---> <a href='file:///opt/python/3.10.4/lib/python3.10/site-packages/keras/utils/traceback_utils.py?line=66'>67</a>\u001b[0m   \u001b[39mraise\u001b[39;00m e\u001b[39m.\u001b[39mwith_traceback(filtered_tb) \u001b[39mfrom\u001b[39;00m \u001b[39mNone\u001b[39m\n\u001b[1;32m     <a href='file:///opt/python/3.10.4/lib/python3.10/site-packages/keras/utils/traceback_utils.py?line=67'>68</a>\u001b[0m \u001b[39mfinally\u001b[39;00m:\n\u001b[1;32m     <a href='file:///opt/python/3.10.4/lib/python3.10/site-packages/keras/utils/traceback_utils.py?line=68'>69</a>\u001b[0m   \u001b[39mdel\u001b[39;00m filtered_tb\n",
      "File \u001b[0;32m/opt/python/3.10.4/lib/python3.10/site-packages/tensorflow/python/framework/func_graph.py:1147\u001b[0m, in \u001b[0;36mfunc_graph_from_py_func.<locals>.autograph_handler\u001b[0;34m(*args, **kwargs)\u001b[0m\n\u001b[1;32m   <a href='file:///opt/python/3.10.4/lib/python3.10/site-packages/tensorflow/python/framework/func_graph.py?line=1144'>1145</a>\u001b[0m \u001b[39mexcept\u001b[39;00m \u001b[39mException\u001b[39;00m \u001b[39mas\u001b[39;00m e:  \u001b[39m# pylint:disable=broad-except\u001b[39;00m\n\u001b[1;32m   <a href='file:///opt/python/3.10.4/lib/python3.10/site-packages/tensorflow/python/framework/func_graph.py?line=1145'>1146</a>\u001b[0m   \u001b[39mif\u001b[39;00m \u001b[39mhasattr\u001b[39m(e, \u001b[39m\"\u001b[39m\u001b[39mag_error_metadata\u001b[39m\u001b[39m\"\u001b[39m):\n\u001b[0;32m-> <a href='file:///opt/python/3.10.4/lib/python3.10/site-packages/tensorflow/python/framework/func_graph.py?line=1146'>1147</a>\u001b[0m     \u001b[39mraise\u001b[39;00m e\u001b[39m.\u001b[39mag_error_metadata\u001b[39m.\u001b[39mto_exception(e)\n\u001b[1;32m   <a href='file:///opt/python/3.10.4/lib/python3.10/site-packages/tensorflow/python/framework/func_graph.py?line=1147'>1148</a>\u001b[0m   \u001b[39melse\u001b[39;00m:\n\u001b[1;32m   <a href='file:///opt/python/3.10.4/lib/python3.10/site-packages/tensorflow/python/framework/func_graph.py?line=1148'>1149</a>\u001b[0m     \u001b[39mraise\u001b[39;00m\n",
      "\u001b[0;31mTypeError\u001b[0m: in user code:\n\n    File \"/opt/python/3.10.4/lib/python3.10/site-packages/keras/engine/training.py\", line 1021, in train_function  *\n        return step_function(self, iterator)\n    File \"/opt/python/3.10.4/lib/python3.10/site-packages/keras/engine/training.py\", line 1010, in step_function  **\n        outputs = model.distribute_strategy.run(run_step, args=(data,))\n    File \"/opt/python/3.10.4/lib/python3.10/site-packages/keras/engine/training.py\", line 1000, in run_step  **\n        outputs = model.train_step(data)\n    File \"/opt/python/3.10.4/lib/python3.10/site-packages/keras/engine/training.py\", line 860, in train_step\n        loss = self.compute_loss(x, y, y_pred, sample_weight)\n    File \"/opt/python/3.10.4/lib/python3.10/site-packages/keras/engine/training.py\", line 918, in compute_loss\n        return self.compiled_loss(\n    File \"/opt/python/3.10.4/lib/python3.10/site-packages/keras/engine/compile_utils.py\", line 239, in __call__\n        self._loss_metric.update_state(\n    File \"/opt/python/3.10.4/lib/python3.10/site-packages/keras/utils/metrics_utils.py\", line 70, in decorated\n        update_op = update_state_fn(*args, **kwargs)\n    File \"/opt/python/3.10.4/lib/python3.10/site-packages/keras/metrics.py\", line 178, in update_state_fn\n        return ag_update_state(*args, **kwargs)\n    File \"/opt/python/3.10.4/lib/python3.10/site-packages/keras/metrics.py\", line 455, in update_state  **\n        sample_weight = tf.__internal__.ops.broadcast_weights(\n    File \"/opt/python/3.10.4/lib/python3.10/site-packages/keras/engine/keras_tensor.py\", line 254, in __array__\n        raise TypeError(\n\n    TypeError: You are passing KerasTensor(type_spec=TensorSpec(shape=(), dtype=tf.float32, name=None), name='Placeholder:0', description=\"created by layer 'tf.cast_4'\"), an intermediate Keras symbolic input/output, to a TF API that does not allow registering custom dispatchers, such as `tf.cond`, `tf.function`, gradient tapes, or `tf.map_fn`. Keras Functional model construction only supports TF API calls that *do* support dispatching, such as `tf.math.add` or `tf.reshape`. Other APIs cannot be called directly on symbolic Kerasinputs/outputs. You can work around this limitation by putting the operation in a custom Keras layer `call` and calling that layer on this symbolic input/output.\n"
     ]
    }
   ],
   "source": [
    "model.VAE.fit(x,y)"
   ]
  },
  {
   "cell_type": "code",
   "execution_count": null,
   "metadata": {},
   "outputs": [],
   "source": []
  }
 ],
 "metadata": {
  "interpreter": {
   "hash": "4f946df053fbf2b937619d3c5458e7af74262f9a954d8797ba0b27400bcafe06"
  },
  "kernelspec": {
   "display_name": "Python 3.10.4 64-bit",
   "language": "python",
   "name": "python3"
  },
  "language_info": {
   "codemirror_mode": {
    "name": "ipython",
    "version": 3
   },
   "file_extension": ".py",
   "mimetype": "text/x-python",
   "name": "python",
   "nbconvert_exporter": "python",
   "pygments_lexer": "ipython3",
   "version": "3.10.4"
  },
  "orig_nbformat": 4
 },
 "nbformat": 4,
 "nbformat_minor": 2
}
