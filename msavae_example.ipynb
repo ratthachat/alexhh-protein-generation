{
 "cells": [
  {
   "cell_type": "markdown",
   "metadata": {},
   "source": [
    "# MSA-VAE for TF2.0"
   ]
  },
  {
   "cell_type": "code",
   "execution_count": 1,
   "metadata": {},
   "outputs": [
    {
     "name": "stderr",
     "output_type": "stream",
     "text": [
      "2022-05-21 03:39:39.692080: W tensorflow/stream_executor/platform/default/dso_loader.cc:64] Could not load dynamic library 'libcudart.so.11.0'; dlerror: libcudart.so.11.0: cannot open shared object file: No such file or directory\n",
      "2022-05-21 03:39:39.692116: I tensorflow/stream_executor/cuda/cudart_stub.cc:29] Ignore above cudart dlerror if you do not have a GPU set up on your machine.\n"
     ]
    }
   ],
   "source": [
    "from models.vaes import MSAVAE\n",
    "from models.protcnn import BaseProtVAE\n",
    "from utils.io import load_gzdata\n",
    "from utils.data_loaders import one_hot_generator\n",
    "\n",
    "import tensorflow.keras as keras\n",
    "\n",
    "import numpy as np\n",
    "import pandas as pd"
   ]
  },
  {
   "cell_type": "markdown",
   "metadata": {},
   "source": [
    "This is the data use in the original paper : **Generating novel protein variants with variational autoencoders** by Alex Hawkins-Hooker et al. *PLOS Computational Biology*, Feb 2021."
   ]
  },
  {
   "cell_type": "code",
   "execution_count": 2,
   "metadata": {},
   "outputs": [],
   "source": [
    "a, raw_seqs = load_gzdata('data/training_data/ll_train.fa.gz', one_hot=False)\n",
    "b, msa_seqs = load_gzdata('data/training_data/luxafilt_llmsa_train.fa.gz', one_hot=False)"
   ]
  },
  {
   "cell_type": "markdown",
   "metadata": {},
   "source": [
    "Let us see what inside the data"
   ]
  },
  {
   "cell_type": "code",
   "execution_count": 3,
   "metadata": {},
   "outputs": [
    {
     "name": "stdout",
     "output_type": "stream",
     "text": [
      "raw data\n",
      "['MAELKLGYKASAEQFAPRELVELAVAAEAHGMDSATVSDHFQPWRHEGGHAPFSLAWMTAVGERTTRITLGTSVLTPTFRYNPAVVAQAFATMACLYPGRIFLGVGTGEALNEIATGYQGEWPEFKERFARLRESVRLMRELWRGDRVDFDGEYYRLKGASIYDVPDGGVPIYIAAGGPAVAKYAGRAGDGFICTSGKGEELYKDKLIPAVKEGAAINDRNVDDIDKMIEIKISYDPDPELALENTRFWAPLSLTAEQKHSIDDPIEMEKAADALPIEQVAKRWIVASDPDEAVAKVKDYVDWGLNHLVFHAPGHDQRRFLELFEKDLAPRLRRLG', 'MAELKLGYKASAEQFAPRELVELAVLAESAGMDSATVSDHFQPWRHEGGHAPFSLAWMTAVGERTKNLVLGTSVLTPTFRYNPAVIAQAFATMGCLYPGRIFLGVGTGEALNEIATGYAGEWPEFKERFARLRESVRLMRELWLGDRVDFDGEYYRTKGASIYDVPEGGIPVYIAAGGPVVAKYAGRAGDGFICTSGKGEELYAEKLIPAVKEGAAAADRDADAIDRMIEIKISYDTDPELALENTRFWAPLSLTAEQKHSIDDPIEMEKAADALPIEQVAKRWIVASDPDEAVEKVGQYVKWGLNHLVFHAPGHDQRRFLELFKRDLEPRLRKLA', 'MSLNMFWFLPTHGDGHYLGTEEGSRPVDHGYLQQIAQAADRLGYTGVLIPTGRSCEDAWLVAASMIPVTQRLKFLVALRPSVTSPTVAARQAATLDRLSNGRALFNLVTGSDPQELAGDGVFLDHSERYEASAEFTQVWRRLLLGETVDFNGKHIHVRGAKLLFPPIQQPYPPLYFGGSSDVAQELAAEQVDLYLTWGEPPELVKEKIEHVRAKAAAHGRKIRFGVRLHVIVRETNDEAWQAAERLISRLDDETIAKAQAAFARTDSVGQQRMAALHNGKRDNLEISPNLWAGVGLVRGGAGTALVGDGPTVAARINEYAALGIDSFVLSGYPHLEEAYRVGELLFPHLDVAIPEIPQPQPLNPQGEAVANDFIPRNVAQS', 'MGGLRFGFVDALVHSRLPPTLPARSSMAAATVMGADSYWVGDHLNALVPRSIATSEYLGIAAKFVPKIDANYEPWTMLGNLAFGLPSRLRLGVCVTDAGRRNPAVTAQAAATLHLLTRGRAILGIGVGEREGNEPYGVEWTKPVARFEEALATIRALWNSNGELISRESPYFPLHNALFDLPPYRGKWPEIWVAAHGPRMLRATGRYADAWIPIVVVRPSDYSRALEAVRSAASDAGRDPMSITPAAVRGIITGRNRDDVEEALESVVVKMTALGVPGEAWARHGVEHPMGADFSGVQDIIPQTMDKQTVLSYAAKVPAALMKEVVFSGTPDEVIDQVAEWRDHGLRYVVLINGSLVNPSLRKTVTAVLPHAKVLRGLKKL', 'MHVFWFIPTHGDSRYLGTSEGARAVHYDYLRQVATAADTLGYEGVLIPTGRSCEDPWVVASALAPVTRRLKFLVAVRPGLHQPALAARMAATFDRLSGGRLLINLVTGGDRTELEGDGVFLDHAQRYAQSEEFIRIWREILSRSHEGGTFDYEGEHLSVKGAKLLYPPVQKPYPPVYFGGSSEAAHDLAAEQVDTYLTWGEPPAAVAQKVADVRARAAQRGRTVRFGIRLHVIVRETDAAAWAAAEELISRVQDETVAQAQAVFSRMDSEGQRRMAALHAGGTRRSRADLEISPNLWAGVGLVRGGAGTALVGDPQTVAARMQEYADLGIDTFVLSGYPHLEEAYRFAELVFPLLPAEVRERIGGGRAAGPLTGPFGEIVGNQYVPRAAQS']\n",
      "mean, std, max and min: 355.07406669444094 51.827504712639275 500 250\n",
      "\n",
      "msa data\n",
      "LKLGYKA-SA------PRE----LVELAVAAEAHGMDSATVSDHFQPW----PFSLAWMTAVG-E-TRITLGTSVL--T--NPAVVAQAFATMACLY-GR-FLGVGTGAL--E-----GEWK-RFARLRESVRLMRELWR-----FDGE-YRLK-A-IYDVP-G-G-VPIYIAGG-P-VAK-AGRAGDGIT-S-G-K--LY-KLI-AVKEGA----RN-----M-----IKIYD-DPEALTRF---------APL--TAE--------------MEK--------D------AL-------P-IEQVA-KVK-------LNH-V--HAP-----------R-FEKDLAPRLRRLG-----\n",
      "LKLGYKA-SA------PRE----LVELAVLAESAGMDSATVSDHFQPW----PFSLAWMTAVG-E-KNLVLGTSVL--T--NPAVIAQAFATMGCLY-GR-FLGVGTGAL--E-----GEWK-RFARLRESVRLMRELWL-----FDGE-YRTK-A-IYDVP-G-G-IPVYIAGG-P-VAK-AGRAGDGIT-S-G-K--LY-ALI-AVKEGA----RD-----M-----IKIYD-DPEALTRF---------APL--TAE--------------MEK--------D------AL-------P-IEQVA-KVG-------LNH-V--HAP-----------R-FKRDLEPRLRKLA-----\n",
      "RRIGYHA-SH------PEE----LLRLVQRAEAAGFDAVLSSDHLAPW----GHAWSWLGAAL-A-TTLPFGVV-T--G--HPVVTAQAVATLSRMF-GR-WAAYGSGAL--E-----DAWE-RRQRLRSSVQIIRALLA-----ADE--VRVH-A-IWSRP-Q-P-PPVIAAVS-E-TAA-AAGWAEGIV-G-S----QT-AVL-AYRGRG-----------M-----IHVLA-TDDALAQE-QWR-----ATV-------------------FDA---------------DP-------R-PEAMR-RIA-------FDQ-H-HHVG-----------P-APE-LLGALRERLHAAAA\n",
      "mean, std, max and min: 360.0 0.0 360 360\n"
     ]
    }
   ],
   "source": [
    "print('raw data')\n",
    "len(raw_seqs), len(msa_seqs)\n",
    "print(raw_seqs[:5])\n",
    "lraw = np.array([len(s) for s in raw_seqs])\n",
    "print('mean, std, max and min:', lraw.mean(), lraw.std(), lraw.max(), lraw.min())\n",
    "print()\n",
    "\n",
    "print('msa data')\n",
    "print(msa_seqs[0])\n",
    "print(msa_seqs[1])\n",
    "print(msa_seqs[-1])\n",
    "lmsa = np.array([len(s) for s in msa_seqs])\n",
    "print('mean, std, max and min:', lmsa.mean(), lmsa.std(), lmsa.max(), lmsa.min())"
   ]
  },
  {
   "cell_type": "markdown",
   "metadata": {},
   "source": [
    "And this is a data generator used in the original author"
   ]
  },
  {
   "cell_type": "code",
   "execution_count": 4,
   "metadata": {},
   "outputs": [
    {
     "name": "stdout",
     "output_type": "stream",
     "text": [
      "(32, 360, 21) (32, 360, 21)\n",
      "[0. 0. 0. 0. 0. 0. 0. 0. 0. 0. 0. 1. 0. 0. 0. 0. 0. 0. 0. 0. 0.] [0. 0. 0. 0. 0. 0. 0. 0. 0. 0. 0. 1. 0. 0. 0. 0. 0. 0. 0. 0. 0.]\n"
     ]
    }
   ],
   "source": [
    "train_gen = one_hot_generator(msa_seqs, padding=None)\n",
    "for (x,y) in train_gen:\n",
    "    print(x.shape, y.shape)\n",
    "    print(x[0, 0,:], y[0, 0,:])\n",
    "    break"
   ]
  },
  {
   "cell_type": "markdown",
   "metadata": {},
   "source": [
    "## Model & training"
   ]
  },
  {
   "cell_type": "code",
   "execution_count": 5,
   "metadata": {},
   "outputs": [
    {
     "name": "stderr",
     "output_type": "stream",
     "text": [
      "2022-05-21 03:39:43.031693: W tensorflow/stream_executor/platform/default/dso_loader.cc:64] Could not load dynamic library 'libcuda.so.1'; dlerror: libcuda.so.1: cannot open shared object file: No such file or directory\n",
      "2022-05-21 03:39:43.031733: W tensorflow/stream_executor/cuda/cuda_driver.cc:269] failed call to cuInit: UNKNOWN ERROR (303)\n",
      "2022-05-21 03:39:43.031757: I tensorflow/stream_executor/cuda/cuda_diagnostics.cc:156] kernel driver does not appear to be running on this host (codespaces-b9df07): /proc/driver/nvidia/version does not exist\n",
      "2022-05-21 03:39:43.032030: I tensorflow/core/platform/cpu_feature_guard.cc:151] This TensorFlow binary is optimized with oneAPI Deep Neural Network Library (oneDNN) to use the following CPU instructions in performance-critical operations:  AVX2 AVX512F FMA\n",
      "To enable them in other operations, rebuild TensorFlow with the appropriate compiler flags.\n"
     ]
    }
   ],
   "source": [
    "model = MSAVAE()"
   ]
  },
  {
   "cell_type": "code",
   "execution_count": 7,
   "metadata": {},
   "outputs": [
    {
     "name": "stdout",
     "output_type": "stream",
     "text": [
      "Epoch 1/5\n",
      "20/20 [==============================] - 1s 23ms/step - loss: 918.8317 - reconstruction_loss: 728.6473 - kl_loss: 33.3915 - categorial_acc: 0.1680\n",
      "Epoch 2/5\n",
      "20/20 [==============================] - 0s 22ms/step - loss: 554.9304 - reconstruction_loss: 536.8134 - kl_loss: 9.6489 - categorial_acc: 0.2117\n",
      "Epoch 3/5\n",
      "20/20 [==============================] - 1s 26ms/step - loss: 534.9412 - reconstruction_loss: 516.7571 - kl_loss: 7.0524 - categorial_acc: 0.2279\n",
      "Epoch 4/5\n",
      "20/20 [==============================] - 1s 25ms/step - loss: 492.8586 - reconstruction_loss: 486.4727 - kl_loss: 10.3593 - categorial_acc: 0.2913\n",
      "Epoch 5/5\n",
      "20/20 [==============================] - 1s 28ms/step - loss: 487.2161 - reconstruction_loss: 468.6903 - kl_loss: 11.6763 - categorial_acc: 0.3180\n"
     ]
    },
    {
     "data": {
      "text/plain": [
       "<keras.callbacks.History at 0x7f55a2a78ee0>"
      ]
     },
     "execution_count": 7,
     "metadata": {},
     "output_type": "execute_result"
    }
   ],
   "source": [
    "model.compile(optimizer=keras.optimizers.Adam())\n",
    "model.fit(train_gen, epochs=5,  steps_per_epoch=20)"
   ]
  },
  {
   "cell_type": "code",
   "execution_count": 8,
   "metadata": {},
   "outputs": [
    {
     "name": "stdout",
     "output_type": "stream",
     "text": [
      "Model: \"msavae_1\"\n",
      "_________________________________________________________________\n",
      " Layer (type)                Output Shape              Param #   \n",
      "=================================================================\n",
      " model (Functional)          [(None, 10),              2006548   \n",
      "                              (None, 10)]                        \n",
      "                                                                 \n",
      " model_1 (Functional)        (None, 360, 21)           2011528   \n",
      "                                                                 \n",
      "=================================================================\n",
      "Total params: 4,018,084\n",
      "Trainable params: 4,018,076\n",
      "Non-trainable params: 8\n",
      "_________________________________________________________________\n"
     ]
    }
   ],
   "source": [
    "model.summary()"
   ]
  },
  {
   "cell_type": "markdown",
   "metadata": {},
   "source": [
    "## Generate luxA variants\n",
    "\n",
    "Following the original repo, we can remove or not remove the gap generated by the MSA-VAE model."
   ]
  },
  {
   "cell_type": "code",
   "execution_count": 9,
   "metadata": {},
   "outputs": [
    {
     "name": "stdout",
     "output_type": "stream",
     "text": [
      "(5, 10)\n",
      "['MKFGLFGAELVELAKLAEELGFDSAWVGEHHFPSPFTVLAAAAARTKRIRLGTAVTVLPHPVRVAQDAATLDHLSGRELGIGRGEFAFRGARFEEALELLRRLWTFEGKFVPRPQHPPIWVAGGSLERAGRYGDGLLEFALVDLYRAAGFVADTDAAYGPVIEKLLDRLSEFAEEVAPLR', 'FGLFLLELVELAKLAEAGFDGVFVAEHHFPDPLTLLAALAAAERIGLGTTLSHPALVARRFATLDHLSGRLNIGTGERYERAEEFLEVLRKLWEGFPIWIAEAGRYGDGVYRARLLGEKAEPLR', 'MKFGLFGRERELVELAKLAEELGFDVAWVGEHHFSSPFTVLAAAAARTKRIRLGTAVTVLSDPVRVAEDFATLDHLSGRELGIGRGEFPLFYDYRELFEEKLELLRKLWRVTWEGKFVYPRPQGPPIWVAGGESAERAGRLGLGLLLAPEFALVDLYREAAAGHFVADDAAERYFGPEVIEKILEADRELRSIELAEEVAPLR', 'MKFGLFGAELVELAKLAEELGFDGAWVGEHHFPSPFTVLAAAAARTKRIRLGTAVTVLPHPVRVAEDFATLDHLSGRELGIGRGEFRGALFEEALELLRALWTFEGKFVPRPPPIWIAGGSAERAAEYGDGLAEFALVDLYREAAGFVADDAAYGPVIEKLLDRLEFAEEVAPLR', 'MKFGLFGRELVELAKLAEELGFDSFWVGEHHFPSPFTVLAAAAARTKRIRLGTAVTVLSDPVRVAEDAATLDLLSGRELGIGRGEFLFYRGALFREALELLRALWTVTFEGKFVPRPQHPPIWVAGGSAERAGRLGDGLLAPEFALVDLYREAAGFVADDAARYGPVIEKLLDRLSLELAEEVAPLR']\n"
     ]
    }
   ],
   "source": [
    "xx = model.generate_variants_luxA(5)\n",
    "print(xx)"
   ]
  },
  {
   "cell_type": "code",
   "execution_count": 10,
   "metadata": {},
   "outputs": [
    {
     "name": "stdout",
     "output_type": "stream",
     "text": [
      "(5, 10)\n",
      "['MKFGLF--G--------RERI-ELVEEAVLAEELGFDVAWVGEHHF------SSPFTVLAAAAARTKRIRLGTAVTVLS--DPVRVAEDFATLDHLS-GR-ELGIGRGF---EFPLF-YD---YRELFEEKLDLLRKLWR---VTWEGK-F------VYPRP-Q--GPPIWVAGG--ESAERAGRLGLGLLLAI--P--EFA-LVDLYREAAA--GH-----------H-FVAD-D--A-AE--YY-------F-----------------------------------------------G-P--VIEKLL---EA---DR--L---G-----E-LRSIE-LAEEVAP-LR---A----', 'MEFGLF--G--------RER---LVEEAVLAEELGFDVAWVGEHHF------SSPFTVLAAAAARTKRIRLGTAVTVLS--DPVRVAEDAATLDLLS-GR-ELGIGRGF---EFPLF-YD---YRELFEEKLELLRRLWT---VTWEGK-F------VYPRPVQ--GPPIWVAGG--ESVERAGRLGLPLLLA---PP-EFA-LVDLYREAAA--GH-----------HVFVADTD--A-AE-RRY-------F----------------------------------------A------G-PDEVIEKILRL-EA---DR----Q-------E-LRSIE-FAEEVAP-LR---A----', 'MKFGLF--G--------AE----LVELAKLAEELGFDSAWVGEHHF------PSPFVVLAAAAARTKRIRLGTAVTVLP--HPVRVAEDFATLDHLS-GR-ELGVGRG----EF--F------RGELFEEALELLRALWT-----FEGK-F------V-PRP-Q--HPPIWVAGG---SAERAGRLGDGLL-A------EFA-LVDLYREAA---G--------------FVAD-D--A-A----Y-------------------------------------------------------G-P--VIEKLL--------DR--------------L-S-E-FAEEVAP-LR--------', 'MKFGLF----------AAE-L--LVELAKLAEELGFDSFWVGEHHF------PSPEVVLAALAARTKRIRLGTAVTVLP--HPVRVAEQFATLDHLS-GR-ELGLGRG----E---F------RGARFREALELLRALWT-----FDGE----------PRP-----PPIWVAGG---SAE-AAELGDGL--A----------LVDLYREAA-------------------V-D------A----Y---------------------------------------------------------P--VIERLL--------DR------------------E-LAEEVLP-LR--------', 'MKFGLF----------AAE----LVELAKAAEELGFDSFWVAEHHF-------SPEVVLAALAA-TKRIRLGTGVT-LP--HPLVVAEQFATLDHLS-GR--LGLGRG----E----------RGARLREALELLRRLWT-----FDG-----------PKP-----PPIWIAGS---SAR-AARHGDGW-------------LVDLYREAA---------------------D------A--------------------------------------------------------------P-EVI-RL---------DR--------------------FAE-V-P-LR--------']\n"
     ]
    }
   ],
   "source": [
    "xx = model.generate_variants_luxA(5,remove_gaps=False)\n",
    "print(xx)"
   ]
  },
  {
   "cell_type": "code",
   "execution_count": null,
   "metadata": {},
   "outputs": [],
   "source": []
  }
 ],
 "metadata": {
  "interpreter": {
   "hash": "4f946df053fbf2b937619d3c5458e7af74262f9a954d8797ba0b27400bcafe06"
  },
  "kernelspec": {
   "display_name": "Python 3.10.4 64-bit",
   "language": "python",
   "name": "python3"
  },
  "language_info": {
   "codemirror_mode": {
    "name": "ipython",
    "version": 3
   },
   "file_extension": ".py",
   "mimetype": "text/x-python",
   "name": "python",
   "nbconvert_exporter": "python",
   "pygments_lexer": "ipython3",
   "version": "3.10.4"
  },
  "orig_nbformat": 4
 },
 "nbformat": 4,
 "nbformat_minor": 2
}
